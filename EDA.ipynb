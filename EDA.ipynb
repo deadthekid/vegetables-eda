{
 "cells": [
  {
   "cell_type": "code",
   "execution_count": 1,
   "id": "22bb333c-15fa-4423-949f-bf81fb5f700e",
   "metadata": {},
   "outputs": [],
   "source": [
    "import pandas as pd\n",
    "import numpy as np\n",
    "import datetime "
   ]
  },
  {
   "cell_type": "code",
   "execution_count": 2,
   "id": "fff59414-a73e-4e27-80ac-1684d5f21015",
   "metadata": {},
   "outputs": [],
   "source": [
    "vdf = pd.read_csv('fruitvegprices-2017_2022.csv')"
   ]
  },
  {
   "cell_type": "code",
   "execution_count": 3,
   "id": "6c6b0dae-14f0-4c7c-955e-4c7e08e287c7",
   "metadata": {},
   "outputs": [
    {
     "data": {
      "text/html": [
       "<div>\n",
       "<style scoped>\n",
       "    .dataframe tbody tr th:only-of-type {\n",
       "        vertical-align: middle;\n",
       "    }\n",
       "\n",
       "    .dataframe tbody tr th {\n",
       "        vertical-align: top;\n",
       "    }\n",
       "\n",
       "    .dataframe thead th {\n",
       "        text-align: right;\n",
       "    }\n",
       "</style>\n",
       "<table border=\"1\" class=\"dataframe\">\n",
       "  <thead>\n",
       "    <tr style=\"text-align: right;\">\n",
       "      <th></th>\n",
       "      <th>category</th>\n",
       "      <th>item</th>\n",
       "      <th>variety</th>\n",
       "      <th>date</th>\n",
       "      <th>price</th>\n",
       "      <th>unit</th>\n",
       "    </tr>\n",
       "  </thead>\n",
       "  <tbody>\n",
       "    <tr>\n",
       "      <th>0</th>\n",
       "      <td>fruit</td>\n",
       "      <td>apples</td>\n",
       "      <td>bramleys_seedling</td>\n",
       "      <td>2022-03-11</td>\n",
       "      <td>2.05</td>\n",
       "      <td>kg</td>\n",
       "    </tr>\n",
       "    <tr>\n",
       "      <th>1</th>\n",
       "      <td>fruit</td>\n",
       "      <td>apples</td>\n",
       "      <td>coxs_orange_group</td>\n",
       "      <td>2022-03-11</td>\n",
       "      <td>1.22</td>\n",
       "      <td>kg</td>\n",
       "    </tr>\n",
       "    <tr>\n",
       "      <th>2</th>\n",
       "      <td>fruit</td>\n",
       "      <td>apples</td>\n",
       "      <td>egremont_russet</td>\n",
       "      <td>2022-03-11</td>\n",
       "      <td>1.14</td>\n",
       "      <td>kg</td>\n",
       "    </tr>\n",
       "    <tr>\n",
       "      <th>3</th>\n",
       "      <td>fruit</td>\n",
       "      <td>apples</td>\n",
       "      <td>braeburn</td>\n",
       "      <td>2022-03-11</td>\n",
       "      <td>1.05</td>\n",
       "      <td>kg</td>\n",
       "    </tr>\n",
       "    <tr>\n",
       "      <th>4</th>\n",
       "      <td>fruit</td>\n",
       "      <td>apples</td>\n",
       "      <td>gala</td>\n",
       "      <td>2022-03-11</td>\n",
       "      <td>1.03</td>\n",
       "      <td>kg</td>\n",
       "    </tr>\n",
       "    <tr>\n",
       "      <th>...</th>\n",
       "      <td>...</td>\n",
       "      <td>...</td>\n",
       "      <td>...</td>\n",
       "      <td>...</td>\n",
       "      <td>...</td>\n",
       "      <td>...</td>\n",
       "    </tr>\n",
       "    <tr>\n",
       "      <th>9642</th>\n",
       "      <td>cut_flowers</td>\n",
       "      <td>alstromeria</td>\n",
       "      <td>indoor</td>\n",
       "      <td>2017-11-03</td>\n",
       "      <td>0.27</td>\n",
       "      <td>stem</td>\n",
       "    </tr>\n",
       "    <tr>\n",
       "      <th>9643</th>\n",
       "      <td>cut_flowers</td>\n",
       "      <td>chrysanthemum</td>\n",
       "      <td>indoor_spray</td>\n",
       "      <td>2017-11-03</td>\n",
       "      <td>0.22</td>\n",
       "      <td>stem</td>\n",
       "    </tr>\n",
       "    <tr>\n",
       "      <th>9644</th>\n",
       "      <td>cut_flowers</td>\n",
       "      <td>lillies</td>\n",
       "      <td>oriental</td>\n",
       "      <td>2017-11-03</td>\n",
       "      <td>0.70</td>\n",
       "      <td>stem</td>\n",
       "    </tr>\n",
       "    <tr>\n",
       "      <th>9645</th>\n",
       "      <td>cut_flowers</td>\n",
       "      <td>narcissus</td>\n",
       "      <td>indoor</td>\n",
       "      <td>2017-11-03</td>\n",
       "      <td>0.06</td>\n",
       "      <td>stem</td>\n",
       "    </tr>\n",
       "    <tr>\n",
       "      <th>9646</th>\n",
       "      <td>pot_plants</td>\n",
       "      <td>cyclamen</td>\n",
       "      <td>13_cm</td>\n",
       "      <td>2017-11-03</td>\n",
       "      <td>0.75</td>\n",
       "      <td>unit</td>\n",
       "    </tr>\n",
       "  </tbody>\n",
       "</table>\n",
       "<p>9647 rows × 6 columns</p>\n",
       "</div>"
      ],
      "text/plain": [
       "         category           item            variety        date  price  unit\n",
       "0           fruit         apples  bramleys_seedling  2022-03-11   2.05    kg\n",
       "1           fruit         apples  coxs_orange_group  2022-03-11   1.22    kg\n",
       "2           fruit         apples    egremont_russet  2022-03-11   1.14    kg\n",
       "3           fruit         apples           braeburn  2022-03-11   1.05    kg\n",
       "4           fruit         apples               gala  2022-03-11   1.03    kg\n",
       "...           ...            ...                ...         ...    ...   ...\n",
       "9642  cut_flowers    alstromeria             indoor  2017-11-03   0.27  stem\n",
       "9643  cut_flowers  chrysanthemum       indoor_spray  2017-11-03   0.22  stem\n",
       "9644  cut_flowers        lillies           oriental  2017-11-03   0.70  stem\n",
       "9645  cut_flowers      narcissus             indoor  2017-11-03   0.06  stem\n",
       "9646   pot_plants       cyclamen              13_cm  2017-11-03   0.75  unit\n",
       "\n",
       "[9647 rows x 6 columns]"
      ]
     },
     "execution_count": 3,
     "metadata": {},
     "output_type": "execute_result"
    }
   ],
   "source": [
    "vdf"
   ]
  },
  {
   "cell_type": "markdown",
   "id": "dc42ff16-f208-4782-b9b8-944a59d16961",
   "metadata": {},
   "source": [
    "## Ejercicios"
   ]
  },
  {
   "cell_type": "markdown",
   "id": "5f974629-c2d2-46ad-86e2-8ed3366fc74b",
   "metadata": {},
   "source": [
    "### Ejercicio uno: realice un analisis de valores nulos\n",
    "\n",
    "En caso de existir valores nulos elimine esos registros"
   ]
  },
  {
   "cell_type": "code",
   "execution_count": 4,
   "id": "9b4e5f2f-3477-4cec-afab-51e40ef0b2eb",
   "metadata": {},
   "outputs": [
    {
     "name": "stdout",
     "output_type": "stream",
     "text": [
      "category\n",
      "0\n",
      " \n",
      "item\n",
      "0\n",
      " \n",
      "variety\n",
      "0\n",
      " \n",
      "date\n",
      "0\n",
      " \n",
      "price\n",
      "0\n",
      " \n",
      "unit\n",
      "0\n",
      " \n"
     ]
    }
   ],
   "source": [
    "   for c_ in vdf.columns:\n",
    "    print(c_)\n",
    "    print(np.sum(vdf[c_].isna()))\n",
    "    print(\" \")"
   ]
  },
  {
   "cell_type": "markdown",
   "id": "0cefeb99-c042-4b6c-b231-0f42566db8a4",
   "metadata": {},
   "source": [
    "***COMO NO TENEMOS VALORES NULOS SOLO DEJAMOS EL REPORTE***"
   ]
  },
  {
   "cell_type": "markdown",
   "id": "29ce0f74-b6a8-40cb-90d9-a2032bb2eacc",
   "metadata": {},
   "source": [
    "### Ejercicio dos: Por categoria, cuantos distintos items hay y cuantos distintos variety hay?\n",
    "\n",
    "El resultado debe de tener el siguiente formato de presentacion:"
   ]
  },
  {
   "cell_type": "code",
   "execution_count": 5,
   "id": "80dfe19b-71f2-4107-b639-07d91ab50a91",
   "metadata": {},
   "outputs": [
    {
     "data": {
      "text/html": [
       "<div>\n",
       "<style scoped>\n",
       "    .dataframe tbody tr th:only-of-type {\n",
       "        vertical-align: middle;\n",
       "    }\n",
       "\n",
       "    .dataframe tbody tr th {\n",
       "        vertical-align: top;\n",
       "    }\n",
       "\n",
       "    .dataframe thead th {\n",
       "        text-align: right;\n",
       "    }\n",
       "</style>\n",
       "<table border=\"1\" class=\"dataframe\">\n",
       "  <thead>\n",
       "    <tr style=\"text-align: right;\">\n",
       "      <th></th>\n",
       "      <th>category</th>\n",
       "      <th>item_count</th>\n",
       "      <th>variety_Count</th>\n",
       "    </tr>\n",
       "  </thead>\n",
       "  <tbody>\n",
       "    <tr>\n",
       "      <th>0</th>\n",
       "      <td>cut_flowers</td>\n",
       "      <td>9</td>\n",
       "      <td>10</td>\n",
       "    </tr>\n",
       "    <tr>\n",
       "      <th>1</th>\n",
       "      <td>fruit</td>\n",
       "      <td>10</td>\n",
       "      <td>21</td>\n",
       "    </tr>\n",
       "  </tbody>\n",
       "</table>\n",
       "</div>"
      ],
      "text/plain": [
       "      category  item_count  variety_Count\n",
       "0  cut_flowers           9             10\n",
       "1        fruit          10             21"
      ]
     },
     "execution_count": 5,
     "metadata": {},
     "output_type": "execute_result"
    }
   ],
   "source": [
    "pd.DataFrame({\n",
    "    \"category\" : ['cut_flowers','fruit']\n",
    "    , \"item_count\" : [9,10]\n",
    "    , \"variety_Count\" : [10,21]\n",
    "})"
   ]
  },
  {
   "cell_type": "markdown",
   "id": "59e6f7f6-5a1d-4e24-bbbf-49c71a71e329",
   "metadata": {},
   "source": [
    "Como nota en un mismo dataframe mostramos todo lo solicitado, usted debe de mostrar todas las categorias"
   ]
  },
  {
   "cell_type": "markdown",
   "id": "41214e36-0419-42f3-8f2c-34b941022d0d",
   "metadata": {},
   "source": [
    "***HAGO EL CONTEO DE CUANTOS DISTINTOS ITEMS HAY PARA CADA CATEGORIA***"
   ]
  },
  {
   "cell_type": "code",
   "execution_count": 6,
   "id": "e058eea3-3c09-4641-9034-a1cbdf2570dd",
   "metadata": {},
   "outputs": [],
   "source": [
    "vdf1=vdf.loc[:,[\"category\",\"item\"]]"
   ]
  },
  {
   "cell_type": "code",
   "execution_count": 7,
   "id": "b4691399-5374-4c44-bc89-e14cde60fcf4",
   "metadata": {},
   "outputs": [],
   "source": [
    "vdf1=vdf1.drop_duplicates()"
   ]
  },
  {
   "cell_type": "code",
   "execution_count": 8,
   "id": "1517047d-9cc9-4161-9f20-858daa9cde4a",
   "metadata": {},
   "outputs": [],
   "source": [
    "vdf1=vdf1.groupby(\"category\",as_index=False).count()"
   ]
  },
  {
   "cell_type": "markdown",
   "id": "7d6915e9-569c-4036-a8e7-9e995eefcb36",
   "metadata": {},
   "source": [
    "***HAGO EL CONTEO DE CUANTOS DISTINTOS VARIETY HAY POR CATEGORIA***"
   ]
  },
  {
   "cell_type": "code",
   "execution_count": 9,
   "id": "90a01c51-e829-40d9-bed8-7e761818b989",
   "metadata": {},
   "outputs": [],
   "source": [
    "vdf2=vdf.loc[:,[\"category\",\"variety\"]]"
   ]
  },
  {
   "cell_type": "code",
   "execution_count": 10,
   "id": "6287ab90-22aa-4124-a15f-437c9f692b2c",
   "metadata": {},
   "outputs": [],
   "source": [
    "vdf2=vdf2.drop_duplicates()"
   ]
  },
  {
   "cell_type": "code",
   "execution_count": 11,
   "id": "ca308027-a4fa-4beb-b149-37333e7fe5ab",
   "metadata": {},
   "outputs": [],
   "source": [
    "vdf2=vdf2.groupby(\"category\",as_index=False).count()"
   ]
  },
  {
   "cell_type": "markdown",
   "id": "b07420c6-78e9-4e4f-9cad-7e6b5a4e1b18",
   "metadata": {},
   "source": [
    "***UNO AMBOS RESULTADOS EN UN SOLO DATAFRAME Y CORRIJO EL NOMBRE DE LAS COLUMNAS***"
   ]
  },
  {
   "cell_type": "code",
   "execution_count": 12,
   "id": "118bf536-ad38-42a7-ae0a-9d523a98e902",
   "metadata": {},
   "outputs": [],
   "source": [
    "vdf1[\"variety_count\"]=vdf2.loc[:,\"variety\"]"
   ]
  },
  {
   "cell_type": "code",
   "execution_count": 13,
   "id": "6e654052-9e59-498d-ae51-7cf5504ae6d9",
   "metadata": {},
   "outputs": [],
   "source": [
    "vdf1.columns=[\"category\",\"item_count\",\"variety_Count\"]"
   ]
  },
  {
   "cell_type": "code",
   "execution_count": 14,
   "id": "dfdcffad-0fd6-4e9a-85ce-bd9a27494ebf",
   "metadata": {},
   "outputs": [
    {
     "data": {
      "text/html": [
       "<div>\n",
       "<style scoped>\n",
       "    .dataframe tbody tr th:only-of-type {\n",
       "        vertical-align: middle;\n",
       "    }\n",
       "\n",
       "    .dataframe tbody tr th {\n",
       "        vertical-align: top;\n",
       "    }\n",
       "\n",
       "    .dataframe thead th {\n",
       "        text-align: right;\n",
       "    }\n",
       "</style>\n",
       "<table border=\"1\" class=\"dataframe\">\n",
       "  <thead>\n",
       "    <tr style=\"text-align: right;\">\n",
       "      <th></th>\n",
       "      <th>category</th>\n",
       "      <th>item_count</th>\n",
       "      <th>variety_Count</th>\n",
       "    </tr>\n",
       "  </thead>\n",
       "  <tbody>\n",
       "    <tr>\n",
       "      <th>0</th>\n",
       "      <td>cut_flowers</td>\n",
       "      <td>9</td>\n",
       "      <td>9</td>\n",
       "    </tr>\n",
       "    <tr>\n",
       "      <th>1</th>\n",
       "      <td>fruit</td>\n",
       "      <td>10</td>\n",
       "      <td>21</td>\n",
       "    </tr>\n",
       "    <tr>\n",
       "      <th>2</th>\n",
       "      <td>pot_plants</td>\n",
       "      <td>3</td>\n",
       "      <td>2</td>\n",
       "    </tr>\n",
       "    <tr>\n",
       "      <th>3</th>\n",
       "      <td>vegetable</td>\n",
       "      <td>32</td>\n",
       "      <td>49</td>\n",
       "    </tr>\n",
       "  </tbody>\n",
       "</table>\n",
       "</div>"
      ],
      "text/plain": [
       "      category  item_count  variety_Count\n",
       "0  cut_flowers           9              9\n",
       "1        fruit          10             21\n",
       "2   pot_plants           3              2\n",
       "3    vegetable          32             49"
      ]
     },
     "execution_count": 14,
     "metadata": {},
     "output_type": "execute_result"
    }
   ],
   "source": [
    "vdf1"
   ]
  },
  {
   "cell_type": "markdown",
   "id": "74d700c1-351e-4e03-b319-4aabd9346cf3",
   "metadata": {},
   "source": [
    "### Ejercicio tres: Para la combinacion item, variety muestre el ultimo valor registrado por año.\n",
    "\n",
    "Ejemplo de como debe de mostrar su respuesta"
   ]
  },
  {
   "cell_type": "code",
   "execution_count": 15,
   "id": "4c36623d-c6e1-4d4d-b97c-ad03b5d2df3e",
   "metadata": {},
   "outputs": [
    {
     "data": {
      "text/html": [
       "<div>\n",
       "<style scoped>\n",
       "    .dataframe tbody tr th:only-of-type {\n",
       "        vertical-align: middle;\n",
       "    }\n",
       "\n",
       "    .dataframe tbody tr th {\n",
       "        vertical-align: top;\n",
       "    }\n",
       "\n",
       "    .dataframe thead th {\n",
       "        text-align: right;\n",
       "    }\n",
       "</style>\n",
       "<table border=\"1\" class=\"dataframe\">\n",
       "  <thead>\n",
       "    <tr style=\"text-align: right;\">\n",
       "      <th></th>\n",
       "      <th>item</th>\n",
       "      <th>variety</th>\n",
       "      <th>year</th>\n",
       "      <th>last_price</th>\n",
       "    </tr>\n",
       "  </thead>\n",
       "  <tbody>\n",
       "    <tr>\n",
       "      <th>0</th>\n",
       "      <td>Manzana</td>\n",
       "      <td>Gala</td>\n",
       "      <td>2022</td>\n",
       "      <td>3.2</td>\n",
       "    </tr>\n",
       "  </tbody>\n",
       "</table>\n",
       "</div>"
      ],
      "text/plain": [
       "      item variety  year  last_price\n",
       "0  Manzana    Gala  2022         3.2"
      ]
     },
     "execution_count": 15,
     "metadata": {},
     "output_type": "execute_result"
    }
   ],
   "source": [
    "pd.DataFrame({\n",
    "    \"item\" : ['Manzana']\n",
    "    , \"variety\" : ['Gala']\n",
    "    , \"year\" : [2022]\n",
    "    , \"last_price\" :  [3.2]\n",
    "})"
   ]
  },
  {
   "cell_type": "code",
   "execution_count": 16,
   "id": "5936e504-6cc9-469a-ada7-7e74659bbdb0",
   "metadata": {},
   "outputs": [],
   "source": [
    "vdf3=vdf"
   ]
  },
  {
   "cell_type": "code",
   "execution_count": 17,
   "id": "5904812f-6578-4d3f-aa85-fe3d717ba3bb",
   "metadata": {},
   "outputs": [
    {
     "data": {
      "text/plain": [
       "Index(['category', 'item', 'variety', 'date', 'price', 'unit'], dtype='object')"
      ]
     },
     "execution_count": 17,
     "metadata": {},
     "output_type": "execute_result"
    }
   ],
   "source": [
    "vdf3.columns"
   ]
  },
  {
   "cell_type": "code",
   "execution_count": 18,
   "id": "37729a36-b145-491a-aa28-5488937651a3",
   "metadata": {},
   "outputs": [],
   "source": [
    "vdf3=vdf3.loc[:,['item', 'variety', 'date', 'price']]"
   ]
  },
  {
   "cell_type": "markdown",
   "id": "d680c54b-e52e-4f8e-967a-83a655f2513a",
   "metadata": {},
   "source": [
    "***AGRUPAMOS Y OBTENEMOS LA ULTIMA FECHA ENCONTRADA EN NUESTRO DATA FRAME***"
   ]
  },
  {
   "cell_type": "code",
   "execution_count": 19,
   "id": "6210d7a0-dda0-48f7-a262-2d9e698f50e2",
   "metadata": {},
   "outputs": [],
   "source": [
    "vdf4=vdf3.groupby([\"item\",\"variety\"],as_index=False).agg({\"date\":\"max\",\"price\":\"max\"})"
   ]
  },
  {
   "cell_type": "markdown",
   "id": "59e27da7-0fc4-42fb-bece-9dfba1f7a279",
   "metadata": {},
   "source": [
    "***CREAMOS UNA NUEVA COLUMNA ENLA CUAL ALMACENAREMOS SOLO EL AÑO***"
   ]
  },
  {
   "cell_type": "code",
   "execution_count": 20,
   "id": "f1313192-09d0-4f21-9728-27d37d3a289c",
   "metadata": {},
   "outputs": [],
   "source": [
    "vdf4['anio']=pd.to_datetime(vdf4['date'].values)"
   ]
  },
  {
   "cell_type": "code",
   "execution_count": 21,
   "id": "b1c67357-fffb-4919-adae-9783dd1d56ba",
   "metadata": {},
   "outputs": [],
   "source": [
    "vdf4['anio']=vdf4['anio'].dt.year"
   ]
  },
  {
   "cell_type": "code",
   "execution_count": 22,
   "id": "e232cecb-8395-4e5c-b4aa-36380f20d34d",
   "metadata": {},
   "outputs": [
    {
     "data": {
      "text/plain": [
       "Index(['item', 'variety', 'date', 'price', 'anio'], dtype='object')"
      ]
     },
     "execution_count": 22,
     "metadata": {},
     "output_type": "execute_result"
    }
   ],
   "source": [
    "vdf4.columns"
   ]
  },
  {
   "cell_type": "markdown",
   "id": "f24367c1-96c9-42ba-a5fc-cf931b98be3a",
   "metadata": {},
   "source": [
    "***RENOMBRAMOS LAS COLUMNAS PARA COINCIDIR CON EL EJEMPLO***"
   ]
  },
  {
   "cell_type": "code",
   "execution_count": 23,
   "id": "42717f74-f68b-4b23-9288-789d117366da",
   "metadata": {},
   "outputs": [],
   "source": [
    "vdf4.columns=['item', 'variety', 'date', 'last_price', 'anio']"
   ]
  },
  {
   "cell_type": "markdown",
   "id": "62be0cd1-d5f7-48fd-95e0-ab396124e30b",
   "metadata": {},
   "source": [
    "***OBTENEMOS NUESTRO RESULTADO***"
   ]
  },
  {
   "cell_type": "code",
   "execution_count": 24,
   "id": "a1670b84-02a6-4d6f-a16c-0cddfbe30f4e",
   "metadata": {},
   "outputs": [
    {
     "data": {
      "text/html": [
       "<div>\n",
       "<style scoped>\n",
       "    .dataframe tbody tr th:only-of-type {\n",
       "        vertical-align: middle;\n",
       "    }\n",
       "\n",
       "    .dataframe tbody tr th {\n",
       "        vertical-align: top;\n",
       "    }\n",
       "\n",
       "    .dataframe thead th {\n",
       "        text-align: right;\n",
       "    }\n",
       "</style>\n",
       "<table border=\"1\" class=\"dataframe\">\n",
       "  <thead>\n",
       "    <tr style=\"text-align: right;\">\n",
       "      <th></th>\n",
       "      <th>item</th>\n",
       "      <th>variety</th>\n",
       "      <th>anio</th>\n",
       "      <th>last_price</th>\n",
       "    </tr>\n",
       "  </thead>\n",
       "  <tbody>\n",
       "    <tr>\n",
       "      <th>0</th>\n",
       "      <td>alstromeria</td>\n",
       "      <td>indoor</td>\n",
       "      <td>2018</td>\n",
       "      <td>0.34</td>\n",
       "    </tr>\n",
       "    <tr>\n",
       "      <th>1</th>\n",
       "      <td>apples</td>\n",
       "      <td>braeburn</td>\n",
       "      <td>2022</td>\n",
       "      <td>1.25</td>\n",
       "    </tr>\n",
       "    <tr>\n",
       "      <th>2</th>\n",
       "      <td>apples</td>\n",
       "      <td>bramleys_seedling</td>\n",
       "      <td>2022</td>\n",
       "      <td>2.75</td>\n",
       "    </tr>\n",
       "    <tr>\n",
       "      <th>3</th>\n",
       "      <td>apples</td>\n",
       "      <td>coxs_orange_group</td>\n",
       "      <td>2022</td>\n",
       "      <td>1.54</td>\n",
       "    </tr>\n",
       "    <tr>\n",
       "      <th>4</th>\n",
       "      <td>apples</td>\n",
       "      <td>egremont_russet</td>\n",
       "      <td>2022</td>\n",
       "      <td>1.71</td>\n",
       "    </tr>\n",
       "    <tr>\n",
       "      <th>...</th>\n",
       "      <td>...</td>\n",
       "      <td>...</td>\n",
       "      <td>...</td>\n",
       "      <td>...</td>\n",
       "    </tr>\n",
       "    <tr>\n",
       "      <th>80</th>\n",
       "      <td>tomatoes</td>\n",
       "      <td>round</td>\n",
       "      <td>2021</td>\n",
       "      <td>1.67</td>\n",
       "    </tr>\n",
       "    <tr>\n",
       "      <th>81</th>\n",
       "      <td>tomatoes</td>\n",
       "      <td>vine</td>\n",
       "      <td>2021</td>\n",
       "      <td>4.45</td>\n",
       "    </tr>\n",
       "    <tr>\n",
       "      <th>82</th>\n",
       "      <td>tulips</td>\n",
       "      <td>tulips</td>\n",
       "      <td>2022</td>\n",
       "      <td>0.30</td>\n",
       "    </tr>\n",
       "    <tr>\n",
       "      <th>83</th>\n",
       "      <td>turnip</td>\n",
       "      <td>turnip</td>\n",
       "      <td>2022</td>\n",
       "      <td>2.10</td>\n",
       "    </tr>\n",
       "    <tr>\n",
       "      <th>84</th>\n",
       "      <td>watercress</td>\n",
       "      <td>pillow_packs</td>\n",
       "      <td>2019</td>\n",
       "      <td>12.68</td>\n",
       "    </tr>\n",
       "  </tbody>\n",
       "</table>\n",
       "<p>85 rows × 4 columns</p>\n",
       "</div>"
      ],
      "text/plain": [
       "           item            variety  anio  last_price\n",
       "0   alstromeria             indoor  2018        0.34\n",
       "1        apples           braeburn  2022        1.25\n",
       "2        apples  bramleys_seedling  2022        2.75\n",
       "3        apples  coxs_orange_group  2022        1.54\n",
       "4        apples    egremont_russet  2022        1.71\n",
       "..          ...                ...   ...         ...\n",
       "80     tomatoes              round  2021        1.67\n",
       "81     tomatoes               vine  2021        4.45\n",
       "82       tulips             tulips  2022        0.30\n",
       "83       turnip             turnip  2022        2.10\n",
       "84   watercress       pillow_packs  2019       12.68\n",
       "\n",
       "[85 rows x 4 columns]"
      ]
     },
     "execution_count": 24,
     "metadata": {},
     "output_type": "execute_result"
    }
   ],
   "source": [
    "vdf4.loc[:,['item','variety','anio','last_price']]"
   ]
  },
  {
   "cell_type": "code",
   "execution_count": null,
   "id": "dafd9133-6929-47d2-acbe-35b3d597a685",
   "metadata": {},
   "outputs": [],
   "source": []
  },
  {
   "cell_type": "markdown",
   "id": "d6539b13-ca3b-4270-a707-5353ea763167",
   "metadata": {},
   "source": [
    "### Ejercicio cuatro: Segun el ejercicio tres, que tanto aumento o disminuyo el precio de cada item-variety \n",
    "\n",
    "Ejemplo de como se debe de mostrar su respuesta"
   ]
  },
  {
   "cell_type": "code",
   "execution_count": 25,
   "id": "88f4e8d0-09ba-4e99-9424-4a435c6d72fc",
   "metadata": {},
   "outputs": [
    {
     "data": {
      "text/html": [
       "<div>\n",
       "<style scoped>\n",
       "    .dataframe tbody tr th:only-of-type {\n",
       "        vertical-align: middle;\n",
       "    }\n",
       "\n",
       "    .dataframe tbody tr th {\n",
       "        vertical-align: top;\n",
       "    }\n",
       "\n",
       "    .dataframe thead th {\n",
       "        text-align: right;\n",
       "    }\n",
       "</style>\n",
       "<table border=\"1\" class=\"dataframe\">\n",
       "  <thead>\n",
       "    <tr style=\"text-align: right;\">\n",
       "      <th></th>\n",
       "      <th>item</th>\n",
       "      <th>variety</th>\n",
       "      <th>year</th>\n",
       "      <th>last_price</th>\n",
       "      <th>delta</th>\n",
       "    </tr>\n",
       "  </thead>\n",
       "  <tbody>\n",
       "    <tr>\n",
       "      <th>0</th>\n",
       "      <td>Manzana</td>\n",
       "      <td>Gala</td>\n",
       "      <td>2020</td>\n",
       "      <td>2.7</td>\n",
       "      <td>0.0</td>\n",
       "    </tr>\n",
       "    <tr>\n",
       "      <th>1</th>\n",
       "      <td>Manzana</td>\n",
       "      <td>Gala</td>\n",
       "      <td>2021</td>\n",
       "      <td>2.5</td>\n",
       "      <td>-0.2</td>\n",
       "    </tr>\n",
       "    <tr>\n",
       "      <th>2</th>\n",
       "      <td>Manzana</td>\n",
       "      <td>Gala</td>\n",
       "      <td>2022</td>\n",
       "      <td>3.2</td>\n",
       "      <td>0.7</td>\n",
       "    </tr>\n",
       "  </tbody>\n",
       "</table>\n",
       "</div>"
      ],
      "text/plain": [
       "      item variety  year  last_price  delta\n",
       "0  Manzana    Gala  2020         2.7    0.0\n",
       "1  Manzana    Gala  2021         2.5   -0.2\n",
       "2  Manzana    Gala  2022         3.2    0.7"
      ]
     },
     "execution_count": 25,
     "metadata": {},
     "output_type": "execute_result"
    }
   ],
   "source": [
    "pd.DataFrame({\n",
    "    \"item\" : ['Manzana','Manzana','Manzana']\n",
    "    , \"variety\" : ['Gala','Gala','Gala']\n",
    "    , \"year\" : [2020,2021,2022]\n",
    "    , \"last_price\" :  [2.7,2.5,3.2]\n",
    "    , \"delta\" : [0, (2.5-2.7), (3.2-2.5)]\n",
    "})"
   ]
  },
  {
   "cell_type": "markdown",
   "id": "1ae39539-fc9a-467c-a0cd-6ed45263a143",
   "metadata": {},
   "source": [
    "Segun nuestro ejemplo dummy para 2021 estuvo 0.2 centavos mas barato y en 2022 estuvo 0.7 centavos caro"
   ]
  },
  {
   "cell_type": "markdown",
   "id": "3ca86d11-331f-4e5a-823a-db7c0f7edb41",
   "metadata": {},
   "source": [
    "***AGRUPAMOS Y OBTENEMOS LA PRIMERA FECHA ENCONTRADA EN NUESTRO DATA FRAME***"
   ]
  },
  {
   "cell_type": "code",
   "execution_count": 26,
   "id": "ad63ccc0-c2f6-44ed-8d41-4788b4cf69a1",
   "metadata": {},
   "outputs": [],
   "source": [
    "vdf5=vdf3.groupby([\"item\",\"variety\"],as_index=False).agg({\"date\":\"min\",\"price\":\"min\"})"
   ]
  },
  {
   "cell_type": "code",
   "execution_count": 27,
   "id": "1a4853d2-5f3f-430a-aafc-0e2d40fbb9e0",
   "metadata": {},
   "outputs": [
    {
     "data": {
      "text/html": [
       "<div>\n",
       "<style scoped>\n",
       "    .dataframe tbody tr th:only-of-type {\n",
       "        vertical-align: middle;\n",
       "    }\n",
       "\n",
       "    .dataframe tbody tr th {\n",
       "        vertical-align: top;\n",
       "    }\n",
       "\n",
       "    .dataframe thead th {\n",
       "        text-align: right;\n",
       "    }\n",
       "</style>\n",
       "<table border=\"1\" class=\"dataframe\">\n",
       "  <thead>\n",
       "    <tr style=\"text-align: right;\">\n",
       "      <th></th>\n",
       "      <th>item</th>\n",
       "      <th>variety</th>\n",
       "      <th>date</th>\n",
       "      <th>price</th>\n",
       "    </tr>\n",
       "  </thead>\n",
       "  <tbody>\n",
       "    <tr>\n",
       "      <th>0</th>\n",
       "      <td>alstromeria</td>\n",
       "      <td>indoor</td>\n",
       "      <td>2017-11-03</td>\n",
       "      <td>0.23</td>\n",
       "    </tr>\n",
       "    <tr>\n",
       "      <th>1</th>\n",
       "      <td>apples</td>\n",
       "      <td>braeburn</td>\n",
       "      <td>2017-11-03</td>\n",
       "      <td>0.50</td>\n",
       "    </tr>\n",
       "    <tr>\n",
       "      <th>2</th>\n",
       "      <td>apples</td>\n",
       "      <td>bramleys_seedling</td>\n",
       "      <td>2017-11-03</td>\n",
       "      <td>0.67</td>\n",
       "    </tr>\n",
       "    <tr>\n",
       "      <th>3</th>\n",
       "      <td>apples</td>\n",
       "      <td>coxs_orange_group</td>\n",
       "      <td>2017-11-03</td>\n",
       "      <td>0.61</td>\n",
       "    </tr>\n",
       "    <tr>\n",
       "      <th>4</th>\n",
       "      <td>apples</td>\n",
       "      <td>egremont_russet</td>\n",
       "      <td>2017-11-03</td>\n",
       "      <td>0.78</td>\n",
       "    </tr>\n",
       "    <tr>\n",
       "      <th>...</th>\n",
       "      <td>...</td>\n",
       "      <td>...</td>\n",
       "      <td>...</td>\n",
       "      <td>...</td>\n",
       "    </tr>\n",
       "    <tr>\n",
       "      <th>80</th>\n",
       "      <td>tomatoes</td>\n",
       "      <td>round</td>\n",
       "      <td>2017-11-03</td>\n",
       "      <td>0.45</td>\n",
       "    </tr>\n",
       "    <tr>\n",
       "      <th>81</th>\n",
       "      <td>tomatoes</td>\n",
       "      <td>vine</td>\n",
       "      <td>2017-11-03</td>\n",
       "      <td>0.71</td>\n",
       "    </tr>\n",
       "    <tr>\n",
       "      <th>82</th>\n",
       "      <td>tulips</td>\n",
       "      <td>tulips</td>\n",
       "      <td>2017-12-15</td>\n",
       "      <td>0.11</td>\n",
       "    </tr>\n",
       "    <tr>\n",
       "      <th>83</th>\n",
       "      <td>turnip</td>\n",
       "      <td>turnip</td>\n",
       "      <td>2017-11-03</td>\n",
       "      <td>0.55</td>\n",
       "    </tr>\n",
       "    <tr>\n",
       "      <th>84</th>\n",
       "      <td>watercress</td>\n",
       "      <td>pillow_packs</td>\n",
       "      <td>2017-11-03</td>\n",
       "      <td>6.55</td>\n",
       "    </tr>\n",
       "  </tbody>\n",
       "</table>\n",
       "<p>85 rows × 4 columns</p>\n",
       "</div>"
      ],
      "text/plain": [
       "           item            variety        date  price\n",
       "0   alstromeria             indoor  2017-11-03   0.23\n",
       "1        apples           braeburn  2017-11-03   0.50\n",
       "2        apples  bramleys_seedling  2017-11-03   0.67\n",
       "3        apples  coxs_orange_group  2017-11-03   0.61\n",
       "4        apples    egremont_russet  2017-11-03   0.78\n",
       "..          ...                ...         ...    ...\n",
       "80     tomatoes              round  2017-11-03   0.45\n",
       "81     tomatoes               vine  2017-11-03   0.71\n",
       "82       tulips             tulips  2017-12-15   0.11\n",
       "83       turnip             turnip  2017-11-03   0.55\n",
       "84   watercress       pillow_packs  2017-11-03   6.55\n",
       "\n",
       "[85 rows x 4 columns]"
      ]
     },
     "execution_count": 27,
     "metadata": {},
     "output_type": "execute_result"
    }
   ],
   "source": [
    "vdf5"
   ]
  },
  {
   "cell_type": "markdown",
   "id": "348a9dfb-a2c0-430f-898a-2ea578c5caf6",
   "metadata": {},
   "source": [
    "***RENOMBRAMOS LAS COLUMNAS PARA IDENTIFICAR NUESTRO PRIMER PRECIO***"
   ]
  },
  {
   "cell_type": "code",
   "execution_count": 28,
   "id": "3b428051-003d-4b92-be6a-d5d8985612d9",
   "metadata": {},
   "outputs": [],
   "source": [
    "vdf5.columns=['item', 'variety', 'date', 'first_price']"
   ]
  },
  {
   "cell_type": "markdown",
   "id": "ed5d9502-8d8a-4f6f-b45b-55a55a070f5d",
   "metadata": {},
   "source": [
    "***CALCULAMOS LA DIFERENCIA DE PRECIOS DESDE LA PRIMERA FECHA CON LA ULTIMA***"
   ]
  },
  {
   "cell_type": "code",
   "execution_count": 29,
   "id": "004be596-4d41-416c-ba62-c38654cd2d13",
   "metadata": {},
   "outputs": [],
   "source": [
    "vdf4['delta']=vdf4['last_price'].values-vdf5['first_price'].values"
   ]
  },
  {
   "cell_type": "code",
   "execution_count": 30,
   "id": "c66f3fb9-90b9-4359-8dcb-23076c07059d",
   "metadata": {},
   "outputs": [
    {
     "data": {
      "text/html": [
       "<div>\n",
       "<style scoped>\n",
       "    .dataframe tbody tr th:only-of-type {\n",
       "        vertical-align: middle;\n",
       "    }\n",
       "\n",
       "    .dataframe tbody tr th {\n",
       "        vertical-align: top;\n",
       "    }\n",
       "\n",
       "    .dataframe thead th {\n",
       "        text-align: right;\n",
       "    }\n",
       "</style>\n",
       "<table border=\"1\" class=\"dataframe\">\n",
       "  <thead>\n",
       "    <tr style=\"text-align: right;\">\n",
       "      <th></th>\n",
       "      <th>item</th>\n",
       "      <th>variety</th>\n",
       "      <th>date</th>\n",
       "      <th>last_price</th>\n",
       "      <th>anio</th>\n",
       "      <th>delta</th>\n",
       "    </tr>\n",
       "  </thead>\n",
       "  <tbody>\n",
       "    <tr>\n",
       "      <th>0</th>\n",
       "      <td>alstromeria</td>\n",
       "      <td>indoor</td>\n",
       "      <td>2018-12-21</td>\n",
       "      <td>0.34</td>\n",
       "      <td>2018</td>\n",
       "      <td>0.11</td>\n",
       "    </tr>\n",
       "    <tr>\n",
       "      <th>1</th>\n",
       "      <td>apples</td>\n",
       "      <td>braeburn</td>\n",
       "      <td>2022-03-11</td>\n",
       "      <td>1.25</td>\n",
       "      <td>2022</td>\n",
       "      <td>0.75</td>\n",
       "    </tr>\n",
       "    <tr>\n",
       "      <th>2</th>\n",
       "      <td>apples</td>\n",
       "      <td>bramleys_seedling</td>\n",
       "      <td>2022-03-11</td>\n",
       "      <td>2.75</td>\n",
       "      <td>2022</td>\n",
       "      <td>2.08</td>\n",
       "    </tr>\n",
       "    <tr>\n",
       "      <th>3</th>\n",
       "      <td>apples</td>\n",
       "      <td>coxs_orange_group</td>\n",
       "      <td>2022-03-11</td>\n",
       "      <td>1.54</td>\n",
       "      <td>2022</td>\n",
       "      <td>0.93</td>\n",
       "    </tr>\n",
       "    <tr>\n",
       "      <th>4</th>\n",
       "      <td>apples</td>\n",
       "      <td>egremont_russet</td>\n",
       "      <td>2022-03-11</td>\n",
       "      <td>1.71</td>\n",
       "      <td>2022</td>\n",
       "      <td>0.93</td>\n",
       "    </tr>\n",
       "    <tr>\n",
       "      <th>...</th>\n",
       "      <td>...</td>\n",
       "      <td>...</td>\n",
       "      <td>...</td>\n",
       "      <td>...</td>\n",
       "      <td>...</td>\n",
       "      <td>...</td>\n",
       "    </tr>\n",
       "    <tr>\n",
       "      <th>80</th>\n",
       "      <td>tomatoes</td>\n",
       "      <td>round</td>\n",
       "      <td>2021-11-19</td>\n",
       "      <td>1.67</td>\n",
       "      <td>2021</td>\n",
       "      <td>1.22</td>\n",
       "    </tr>\n",
       "    <tr>\n",
       "      <th>81</th>\n",
       "      <td>tomatoes</td>\n",
       "      <td>vine</td>\n",
       "      <td>2021-12-17</td>\n",
       "      <td>4.45</td>\n",
       "      <td>2021</td>\n",
       "      <td>3.74</td>\n",
       "    </tr>\n",
       "    <tr>\n",
       "      <th>82</th>\n",
       "      <td>tulips</td>\n",
       "      <td>tulips</td>\n",
       "      <td>2022-03-11</td>\n",
       "      <td>0.30</td>\n",
       "      <td>2022</td>\n",
       "      <td>0.19</td>\n",
       "    </tr>\n",
       "    <tr>\n",
       "      <th>83</th>\n",
       "      <td>turnip</td>\n",
       "      <td>turnip</td>\n",
       "      <td>2022-03-11</td>\n",
       "      <td>2.10</td>\n",
       "      <td>2022</td>\n",
       "      <td>1.55</td>\n",
       "    </tr>\n",
       "    <tr>\n",
       "      <th>84</th>\n",
       "      <td>watercress</td>\n",
       "      <td>pillow_packs</td>\n",
       "      <td>2019-08-30</td>\n",
       "      <td>12.68</td>\n",
       "      <td>2019</td>\n",
       "      <td>6.13</td>\n",
       "    </tr>\n",
       "  </tbody>\n",
       "</table>\n",
       "<p>85 rows × 6 columns</p>\n",
       "</div>"
      ],
      "text/plain": [
       "           item            variety        date  last_price  anio  delta\n",
       "0   alstromeria             indoor  2018-12-21        0.34  2018   0.11\n",
       "1        apples           braeburn  2022-03-11        1.25  2022   0.75\n",
       "2        apples  bramleys_seedling  2022-03-11        2.75  2022   2.08\n",
       "3        apples  coxs_orange_group  2022-03-11        1.54  2022   0.93\n",
       "4        apples    egremont_russet  2022-03-11        1.71  2022   0.93\n",
       "..          ...                ...         ...         ...   ...    ...\n",
       "80     tomatoes              round  2021-11-19        1.67  2021   1.22\n",
       "81     tomatoes               vine  2021-12-17        4.45  2021   3.74\n",
       "82       tulips             tulips  2022-03-11        0.30  2022   0.19\n",
       "83       turnip             turnip  2022-03-11        2.10  2022   1.55\n",
       "84   watercress       pillow_packs  2019-08-30       12.68  2019   6.13\n",
       "\n",
       "[85 rows x 6 columns]"
      ]
     },
     "execution_count": 30,
     "metadata": {},
     "output_type": "execute_result"
    }
   ],
   "source": [
    "vdf4"
   ]
  },
  {
   "cell_type": "markdown",
   "id": "e7bee68e-b5fd-4fda-874c-619a3b44335d",
   "metadata": {},
   "source": [
    "### Ejercicio cinco: Cual es precio promedio por item, variety\n",
    "\n",
    "Ejemplo de como se debe de mostrar su respuesta"
   ]
  },
  {
   "cell_type": "code",
   "execution_count": 31,
   "id": "7041ea50-4254-42d2-bf10-3c9ccda9a81f",
   "metadata": {},
   "outputs": [
    {
     "data": {
      "text/html": [
       "<div>\n",
       "<style scoped>\n",
       "    .dataframe tbody tr th:only-of-type {\n",
       "        vertical-align: middle;\n",
       "    }\n",
       "\n",
       "    .dataframe tbody tr th {\n",
       "        vertical-align: top;\n",
       "    }\n",
       "\n",
       "    .dataframe thead th {\n",
       "        text-align: right;\n",
       "    }\n",
       "</style>\n",
       "<table border=\"1\" class=\"dataframe\">\n",
       "  <thead>\n",
       "    <tr style=\"text-align: right;\">\n",
       "      <th></th>\n",
       "      <th>item</th>\n",
       "      <th>variety</th>\n",
       "      <th>year-month</th>\n",
       "      <th>avg-price</th>\n",
       "    </tr>\n",
       "  </thead>\n",
       "  <tbody>\n",
       "    <tr>\n",
       "      <th>0</th>\n",
       "      <td>Manzana</td>\n",
       "      <td>Gala</td>\n",
       "      <td>2021-01</td>\n",
       "      <td>0.5</td>\n",
       "    </tr>\n",
       "  </tbody>\n",
       "</table>\n",
       "</div>"
      ],
      "text/plain": [
       "      item variety year-month  avg-price\n",
       "0  Manzana    Gala    2021-01        0.5"
      ]
     },
     "execution_count": 31,
     "metadata": {},
     "output_type": "execute_result"
    }
   ],
   "source": [
    "pd.DataFrame({\n",
    "    \"item\" : ['Manzana']\n",
    "    , \"variety\" : ['Gala']\n",
    "    , \"year-month\" : ['2021-01']   \n",
    "    , \"avg-price\" : [0.5]\n",
    "})"
   ]
  },
  {
   "cell_type": "code",
   "execution_count": 32,
   "id": "df21033d-e2d5-447d-be95-d4f605c22f5d",
   "metadata": {},
   "outputs": [],
   "source": [
    "vdf6=vdf"
   ]
  },
  {
   "cell_type": "markdown",
   "id": "0766542e-6ba9-456c-a0ad-c39f1f6dab01",
   "metadata": {},
   "source": [
    "***EXTRAEMOS SOLO EL MES Y AÑO DE NUESTRA FECHA***"
   ]
  },
  {
   "cell_type": "code",
   "execution_count": 33,
   "id": "c2caf550-3e60-4198-9740-7bb12a9f4452",
   "metadata": {},
   "outputs": [],
   "source": [
    "vdf6['date']=pd.to_datetime(vdf6['date'].values)"
   ]
  },
  {
   "cell_type": "code",
   "execution_count": 34,
   "id": "429d36b5-570f-4a78-b29b-84ea54401e1d",
   "metadata": {},
   "outputs": [],
   "source": [
    "vdf6['anio-mes']=vdf6['date'].dt.strftime('%Y %m')"
   ]
  },
  {
   "cell_type": "markdown",
   "id": "c7bb21e4-ca0c-49ca-bfbe-a8f883911c78",
   "metadata": {
    "tags": []
   },
   "source": [
    "***AGRUPAMOS Y OBTENEMOS NUESTRO PROMEDIO DEL PRECIO POR MES Y AÑO***"
   ]
  },
  {
   "cell_type": "code",
   "execution_count": 35,
   "id": "7e2bb19b-0994-451f-93ea-d171ee274f3e",
   "metadata": {},
   "outputs": [],
   "source": [
    "vdf6=vdf6.groupby([\"item\",\"variety\",\"anio-mes\"],as_index=False).agg({\"price\":\"mean\"}).drop_duplicates()"
   ]
  },
  {
   "cell_type": "code",
   "execution_count": 36,
   "id": "07cabafd-9ded-48ca-82f4-1a488d39cee3",
   "metadata": {},
   "outputs": [
    {
     "data": {
      "text/plain": [
       "Index(['item', 'variety', 'anio-mes', 'price'], dtype='object')"
      ]
     },
     "execution_count": 36,
     "metadata": {},
     "output_type": "execute_result"
    }
   ],
   "source": [
    "vdf6.columns"
   ]
  },
  {
   "cell_type": "code",
   "execution_count": 37,
   "id": "16dfc2dd-994b-404d-9d86-a2306d81f300",
   "metadata": {},
   "outputs": [],
   "source": [
    "vdf6.columns=['item', 'variety', 'anio-mes', 'avg-price']"
   ]
  },
  {
   "cell_type": "code",
   "execution_count": 38,
   "id": "352baf11-251b-4368-bd1f-cf1a24623943",
   "metadata": {},
   "outputs": [
    {
     "data": {
      "text/html": [
       "<div>\n",
       "<style scoped>\n",
       "    .dataframe tbody tr th:only-of-type {\n",
       "        vertical-align: middle;\n",
       "    }\n",
       "\n",
       "    .dataframe tbody tr th {\n",
       "        vertical-align: top;\n",
       "    }\n",
       "\n",
       "    .dataframe thead th {\n",
       "        text-align: right;\n",
       "    }\n",
       "</style>\n",
       "<table border=\"1\" class=\"dataframe\">\n",
       "  <thead>\n",
       "    <tr style=\"text-align: right;\">\n",
       "      <th></th>\n",
       "      <th>item</th>\n",
       "      <th>variety</th>\n",
       "      <th>anio-mes</th>\n",
       "      <th>avg-price</th>\n",
       "    </tr>\n",
       "  </thead>\n",
       "  <tbody>\n",
       "    <tr>\n",
       "      <th>0</th>\n",
       "      <td>alstromeria</td>\n",
       "      <td>indoor</td>\n",
       "      <td>2017 11</td>\n",
       "      <td>0.2700</td>\n",
       "    </tr>\n",
       "    <tr>\n",
       "      <th>1</th>\n",
       "      <td>alstromeria</td>\n",
       "      <td>indoor</td>\n",
       "      <td>2017 12</td>\n",
       "      <td>0.2800</td>\n",
       "    </tr>\n",
       "    <tr>\n",
       "      <th>2</th>\n",
       "      <td>alstromeria</td>\n",
       "      <td>indoor</td>\n",
       "      <td>2018 01</td>\n",
       "      <td>0.3100</td>\n",
       "    </tr>\n",
       "    <tr>\n",
       "      <th>3</th>\n",
       "      <td>alstromeria</td>\n",
       "      <td>indoor</td>\n",
       "      <td>2018 02</td>\n",
       "      <td>0.3275</td>\n",
       "    </tr>\n",
       "    <tr>\n",
       "      <th>4</th>\n",
       "      <td>alstromeria</td>\n",
       "      <td>indoor</td>\n",
       "      <td>2018 03</td>\n",
       "      <td>0.3040</td>\n",
       "    </tr>\n",
       "    <tr>\n",
       "      <th>...</th>\n",
       "      <td>...</td>\n",
       "      <td>...</td>\n",
       "      <td>...</td>\n",
       "      <td>...</td>\n",
       "    </tr>\n",
       "    <tr>\n",
       "      <th>2580</th>\n",
       "      <td>watercress</td>\n",
       "      <td>pillow_packs</td>\n",
       "      <td>2019 04</td>\n",
       "      <td>9.4750</td>\n",
       "    </tr>\n",
       "    <tr>\n",
       "      <th>2581</th>\n",
       "      <td>watercress</td>\n",
       "      <td>pillow_packs</td>\n",
       "      <td>2019 05</td>\n",
       "      <td>9.5000</td>\n",
       "    </tr>\n",
       "    <tr>\n",
       "      <th>2582</th>\n",
       "      <td>watercress</td>\n",
       "      <td>pillow_packs</td>\n",
       "      <td>2019 06</td>\n",
       "      <td>9.4900</td>\n",
       "    </tr>\n",
       "    <tr>\n",
       "      <th>2583</th>\n",
       "      <td>watercress</td>\n",
       "      <td>pillow_packs</td>\n",
       "      <td>2019 07</td>\n",
       "      <td>9.4975</td>\n",
       "    </tr>\n",
       "    <tr>\n",
       "      <th>2584</th>\n",
       "      <td>watercress</td>\n",
       "      <td>pillow_packs</td>\n",
       "      <td>2019 08</td>\n",
       "      <td>9.9640</td>\n",
       "    </tr>\n",
       "  </tbody>\n",
       "</table>\n",
       "<p>2585 rows × 4 columns</p>\n",
       "</div>"
      ],
      "text/plain": [
       "             item       variety anio-mes  avg-price\n",
       "0     alstromeria        indoor  2017 11     0.2700\n",
       "1     alstromeria        indoor  2017 12     0.2800\n",
       "2     alstromeria        indoor  2018 01     0.3100\n",
       "3     alstromeria        indoor  2018 02     0.3275\n",
       "4     alstromeria        indoor  2018 03     0.3040\n",
       "...           ...           ...      ...        ...\n",
       "2580   watercress  pillow_packs  2019 04     9.4750\n",
       "2581   watercress  pillow_packs  2019 05     9.5000\n",
       "2582   watercress  pillow_packs  2019 06     9.4900\n",
       "2583   watercress  pillow_packs  2019 07     9.4975\n",
       "2584   watercress  pillow_packs  2019 08     9.9640\n",
       "\n",
       "[2585 rows x 4 columns]"
      ]
     },
     "execution_count": 38,
     "metadata": {},
     "output_type": "execute_result"
    }
   ],
   "source": [
    "vdf6"
   ]
  },
  {
   "cell_type": "markdown",
   "id": "00f6fd8d-62c2-4838-910e-c4f9a7cf93f3",
   "metadata": {},
   "source": [
    "### Ejercicio seis: muestre por category,item,variety que tanto % ha aumentado su precio\n",
    "\n",
    "Ejemplo: si para las manzanas gala el primer precio que se registro fue 2.00 y el ultimo precio que se registro es 4.00 este aumento un 100%"
   ]
  },
  {
   "cell_type": "code",
   "execution_count": 39,
   "id": "b6d2eff5-6029-4136-866d-2fa7afb24c4b",
   "metadata": {},
   "outputs": [
    {
     "data": {
      "text/html": [
       "<div>\n",
       "<style scoped>\n",
       "    .dataframe tbody tr th:only-of-type {\n",
       "        vertical-align: middle;\n",
       "    }\n",
       "\n",
       "    .dataframe tbody tr th {\n",
       "        vertical-align: top;\n",
       "    }\n",
       "\n",
       "    .dataframe thead th {\n",
       "        text-align: right;\n",
       "    }\n",
       "</style>\n",
       "<table border=\"1\" class=\"dataframe\">\n",
       "  <thead>\n",
       "    <tr style=\"text-align: right;\">\n",
       "      <th></th>\n",
       "      <th>category</th>\n",
       "      <th>item</th>\n",
       "      <th>variety</th>\n",
       "      <th>percentage-change-between-first-and-last-price</th>\n",
       "    </tr>\n",
       "  </thead>\n",
       "  <tbody>\n",
       "    <tr>\n",
       "      <th>0</th>\n",
       "      <td>fruta</td>\n",
       "      <td>Manzana</td>\n",
       "      <td>Gala</td>\n",
       "      <td>200</td>\n",
       "    </tr>\n",
       "    <tr>\n",
       "      <th>1</th>\n",
       "      <td>fruta</td>\n",
       "      <td>Manzana</td>\n",
       "      <td>egremont_russet</td>\n",
       "      <td>150</td>\n",
       "    </tr>\n",
       "  </tbody>\n",
       "</table>\n",
       "</div>"
      ],
      "text/plain": [
       "  category     item          variety  \\\n",
       "0    fruta  Manzana             Gala   \n",
       "1    fruta  Manzana  egremont_russet   \n",
       "\n",
       "   percentage-change-between-first-and-last-price  \n",
       "0                                             200  \n",
       "1                                             150  "
      ]
     },
     "execution_count": 39,
     "metadata": {},
     "output_type": "execute_result"
    }
   ],
   "source": [
    "pd.DataFrame({\n",
    "    \"category\": [\"fruta\",\"fruta\"]\n",
    "    ,\"item\" : ['Manzana','Manzana']\n",
    "    , \"variety\" : ['Gala','egremont_russet']\n",
    "    , \"percentage-change-between-first-and-last-price\" : [200,150]       \n",
    "})"
   ]
  },
  {
   "cell_type": "markdown",
   "id": "ff5aa333-0051-44a3-8ba1-fd9fb54de559",
   "metadata": {},
   "source": [
    "***SELECCIONAMOS LOS PRECIOS MAS ACTUALES*** "
   ]
  },
  {
   "cell_type": "code",
   "execution_count": 46,
   "id": "074d9c4b-3c46-4b99-9eb9-fced997b6b86",
   "metadata": {},
   "outputs": [],
   "source": [
    "precio_maximo=vdf.groupby([\"category\",\"item\",\"variety\"],as_index=False).agg({\"date\":\"max\",\"price\":\"max\"})"
   ]
  },
  {
   "cell_type": "markdown",
   "id": "256ff36b-affb-4cd9-a502-925ed003071c",
   "metadata": {},
   "source": [
    "***SELECCIONAMOS LOS PRECIOS MAS ANTIGUOS***"
   ]
  },
  {
   "cell_type": "code",
   "execution_count": 48,
   "id": "91f9a44b-3de5-4f65-a20d-26950df3c944",
   "metadata": {},
   "outputs": [],
   "source": [
    "precio_minimo=vdf.groupby([\"category\",\"item\",\"variety\"],as_index=False).agg({\"date\":\"min\",\"price\":\"min\"})"
   ]
  },
  {
   "cell_type": "markdown",
   "id": "5fadef6b-e222-47bd-8c78-4b1e0072d1bf",
   "metadata": {
    "tags": []
   },
   "source": [
    "***OBTENEMOS SOLO LOS VALORES CON LOS QUE TRABAJAREMOS***"
   ]
  },
  {
   "cell_type": "code",
   "execution_count": 49,
   "id": "10d3316e-454e-44d1-a200-6507fd02843d",
   "metadata": {},
   "outputs": [],
   "source": [
    "pasado=precio_minimo.loc[:,\"price\"].values"
   ]
  },
  {
   "cell_type": "code",
   "execution_count": 50,
   "id": "aeef73b2-816e-4814-8952-f54e92e684bf",
   "metadata": {},
   "outputs": [],
   "source": [
    "presente=precio_maximo.loc[:,\"price\"].values"
   ]
  },
  {
   "cell_type": "markdown",
   "id": "acce2282-6baf-4023-9c88-f9344ce42a7c",
   "metadata": {},
   "source": [
    "***USAMOS LA FORMULA DE (PRESENTE-PASADO)/(PASADO)= PORCENTAJE DE INCREMENTO Y LA ASIGNAMOS A UNA NUEVA COLUMNA*** "
   ]
  },
  {
   "cell_type": "code",
   "execution_count": 58,
   "id": "eaa26a84-8fbc-43a9-af40-2955c1386bd1",
   "metadata": {},
   "outputs": [],
   "source": [
    "precio_maximo[\"percentage-change-between-first-and-last-price\"]=((presente)-(pasado))/(pasado)*100"
   ]
  },
  {
   "cell_type": "code",
   "execution_count": 59,
   "id": "fbc56975-5bc9-4aad-ab2d-7952cc8899c4",
   "metadata": {},
   "outputs": [
    {
     "data": {
      "text/html": [
       "<div>\n",
       "<style scoped>\n",
       "    .dataframe tbody tr th:only-of-type {\n",
       "        vertical-align: middle;\n",
       "    }\n",
       "\n",
       "    .dataframe tbody tr th {\n",
       "        vertical-align: top;\n",
       "    }\n",
       "\n",
       "    .dataframe thead th {\n",
       "        text-align: right;\n",
       "    }\n",
       "</style>\n",
       "<table border=\"1\" class=\"dataframe\">\n",
       "  <thead>\n",
       "    <tr style=\"text-align: right;\">\n",
       "      <th></th>\n",
       "      <th>category</th>\n",
       "      <th>item</th>\n",
       "      <th>variety</th>\n",
       "      <th>date</th>\n",
       "      <th>price</th>\n",
       "      <th>percentage-change-between-first-and-last-price</th>\n",
       "    </tr>\n",
       "  </thead>\n",
       "  <tbody>\n",
       "    <tr>\n",
       "      <th>0</th>\n",
       "      <td>cut_flowers</td>\n",
       "      <td>alstromeria</td>\n",
       "      <td>indoor</td>\n",
       "      <td>2018-12-21</td>\n",
       "      <td>0.34</td>\n",
       "      <td>47.826087</td>\n",
       "    </tr>\n",
       "    <tr>\n",
       "      <th>1</th>\n",
       "      <td>cut_flowers</td>\n",
       "      <td>chrysanthemum</td>\n",
       "      <td>indoor_spray</td>\n",
       "      <td>2018-11-30</td>\n",
       "      <td>0.25</td>\n",
       "      <td>47.058824</td>\n",
       "    </tr>\n",
       "    <tr>\n",
       "      <th>2</th>\n",
       "      <td>cut_flowers</td>\n",
       "      <td>gladioli</td>\n",
       "      <td>all_varieties</td>\n",
       "      <td>2021-11-05</td>\n",
       "      <td>0.33</td>\n",
       "      <td>230.000000</td>\n",
       "    </tr>\n",
       "    <tr>\n",
       "      <th>3</th>\n",
       "      <td>cut_flowers</td>\n",
       "      <td>lillies</td>\n",
       "      <td>oriental</td>\n",
       "      <td>2018-12-21</td>\n",
       "      <td>0.99</td>\n",
       "      <td>98.000000</td>\n",
       "    </tr>\n",
       "    <tr>\n",
       "      <th>4</th>\n",
       "      <td>cut_flowers</td>\n",
       "      <td>narcissus</td>\n",
       "      <td>indoor</td>\n",
       "      <td>2018-12-21</td>\n",
       "      <td>0.09</td>\n",
       "      <td>125.000000</td>\n",
       "    </tr>\n",
       "    <tr>\n",
       "      <th>...</th>\n",
       "      <td>...</td>\n",
       "      <td>...</td>\n",
       "      <td>...</td>\n",
       "      <td>...</td>\n",
       "      <td>...</td>\n",
       "      <td>...</td>\n",
       "    </tr>\n",
       "    <tr>\n",
       "      <th>80</th>\n",
       "      <td>vegetable</td>\n",
       "      <td>tomatoes</td>\n",
       "      <td>plum</td>\n",
       "      <td>2021-08-27</td>\n",
       "      <td>4.50</td>\n",
       "      <td>718.181818</td>\n",
       "    </tr>\n",
       "    <tr>\n",
       "      <th>81</th>\n",
       "      <td>vegetable</td>\n",
       "      <td>tomatoes</td>\n",
       "      <td>round</td>\n",
       "      <td>2021-11-19</td>\n",
       "      <td>1.67</td>\n",
       "      <td>271.111111</td>\n",
       "    </tr>\n",
       "    <tr>\n",
       "      <th>82</th>\n",
       "      <td>vegetable</td>\n",
       "      <td>tomatoes</td>\n",
       "      <td>vine</td>\n",
       "      <td>2021-12-17</td>\n",
       "      <td>4.45</td>\n",
       "      <td>526.760563</td>\n",
       "    </tr>\n",
       "    <tr>\n",
       "      <th>83</th>\n",
       "      <td>vegetable</td>\n",
       "      <td>turnip</td>\n",
       "      <td>turnip</td>\n",
       "      <td>2022-03-11</td>\n",
       "      <td>2.10</td>\n",
       "      <td>281.818182</td>\n",
       "    </tr>\n",
       "    <tr>\n",
       "      <th>84</th>\n",
       "      <td>vegetable</td>\n",
       "      <td>watercress</td>\n",
       "      <td>pillow_packs</td>\n",
       "      <td>2019-08-30</td>\n",
       "      <td>12.68</td>\n",
       "      <td>93.587786</td>\n",
       "    </tr>\n",
       "  </tbody>\n",
       "</table>\n",
       "<p>85 rows × 6 columns</p>\n",
       "</div>"
      ],
      "text/plain": [
       "       category           item        variety       date  price  \\\n",
       "0   cut_flowers    alstromeria         indoor 2018-12-21   0.34   \n",
       "1   cut_flowers  chrysanthemum   indoor_spray 2018-11-30   0.25   \n",
       "2   cut_flowers       gladioli  all_varieties 2021-11-05   0.33   \n",
       "3   cut_flowers        lillies       oriental 2018-12-21   0.99   \n",
       "4   cut_flowers      narcissus         indoor 2018-12-21   0.09   \n",
       "..          ...            ...            ...        ...    ...   \n",
       "80    vegetable       tomatoes           plum 2021-08-27   4.50   \n",
       "81    vegetable       tomatoes          round 2021-11-19   1.67   \n",
       "82    vegetable       tomatoes           vine 2021-12-17   4.45   \n",
       "83    vegetable         turnip         turnip 2022-03-11   2.10   \n",
       "84    vegetable     watercress   pillow_packs 2019-08-30  12.68   \n",
       "\n",
       "    percentage-change-between-first-and-last-price  \n",
       "0                                        47.826087  \n",
       "1                                        47.058824  \n",
       "2                                       230.000000  \n",
       "3                                        98.000000  \n",
       "4                                       125.000000  \n",
       "..                                             ...  \n",
       "80                                      718.181818  \n",
       "81                                      271.111111  \n",
       "82                                      526.760563  \n",
       "83                                      281.818182  \n",
       "84                                       93.587786  \n",
       "\n",
       "[85 rows x 6 columns]"
      ]
     },
     "execution_count": 59,
     "metadata": {},
     "output_type": "execute_result"
    }
   ],
   "source": [
    "precio_maximo"
   ]
  },
  {
   "cell_type": "code",
   "execution_count": 65,
   "id": "7377a062-d8e2-4400-aa94-8abe9c091569",
   "metadata": {},
   "outputs": [
    {
     "data": {
      "text/plain": [
       "Index(['category', 'item', 'variety', 'date', 'price',\n",
       "       'percentage-change-between-first-and-last-price'],\n",
       "      dtype='object')"
      ]
     },
     "execution_count": 65,
     "metadata": {},
     "output_type": "execute_result"
    }
   ],
   "source": [
    "precio_maximo.columns"
   ]
  },
  {
   "cell_type": "markdown",
   "id": "0b507b1e-35d8-4a2f-bfb2-2fa034d453a4",
   "metadata": {
    "tags": []
   },
   "source": [
    "### Ejercicio siete: Segun el ejercicio seis por category cual es el item,variety con mayor aumento de crecimiento \n",
    "\n",
    "Segun el ejemplo dummy que se utilizo en el ejercicio seis para la category fruta se mostraria la manzana gala unicamente"
   ]
  },
  {
   "cell_type": "code",
   "execution_count": 113,
   "id": "404121b4-6103-435d-8584-c85a28b89494",
   "metadata": {},
   "outputs": [],
   "source": [
    "maximo_incremento=precio_maximo.max()"
   ]
  },
  {
   "cell_type": "code",
   "execution_count": 114,
   "id": "993b4429-8505-4e88-8fdd-3470574a41e0",
   "metadata": {},
   "outputs": [],
   "source": [
    "maximo_incremento=maximo_incremento.to_frame(name='Item_variety_por_categoria_con_mayor_incremento')"
   ]
  },
  {
   "cell_type": "code",
   "execution_count": 115,
   "id": "55db468e-53d0-4af0-a412-3339a1d987d4",
   "metadata": {},
   "outputs": [
    {
     "data": {
      "text/html": [
       "<div>\n",
       "<style scoped>\n",
       "    .dataframe tbody tr th:only-of-type {\n",
       "        vertical-align: middle;\n",
       "    }\n",
       "\n",
       "    .dataframe tbody tr th {\n",
       "        vertical-align: top;\n",
       "    }\n",
       "\n",
       "    .dataframe thead th {\n",
       "        text-align: right;\n",
       "    }\n",
       "</style>\n",
       "<table border=\"1\" class=\"dataframe\">\n",
       "  <thead>\n",
       "    <tr style=\"text-align: right;\">\n",
       "      <th></th>\n",
       "      <th>Item_variety_por_categoria_con_mayor_incremento</th>\n",
       "    </tr>\n",
       "  </thead>\n",
       "  <tbody>\n",
       "    <tr>\n",
       "      <th>category</th>\n",
       "      <td>vegetable</td>\n",
       "    </tr>\n",
       "    <tr>\n",
       "      <th>item</th>\n",
       "      <td>watercress</td>\n",
       "    </tr>\n",
       "    <tr>\n",
       "      <th>variety</th>\n",
       "      <td>yelloworange</td>\n",
       "    </tr>\n",
       "    <tr>\n",
       "      <th>date</th>\n",
       "      <td>2022-03-11 00:00:00</td>\n",
       "    </tr>\n",
       "    <tr>\n",
       "      <th>price</th>\n",
       "      <td>17.6</td>\n",
       "    </tr>\n",
       "    <tr>\n",
       "      <th>percentage-change-between-first-and-last-price</th>\n",
       "      <td>974.0</td>\n",
       "    </tr>\n",
       "  </tbody>\n",
       "</table>\n",
       "</div>"
      ],
      "text/plain": [
       "                                               Item_variety_por_categoria_con_mayor_incremento\n",
       "category                                                                             vegetable\n",
       "item                                                                                watercress\n",
       "variety                                                                           yelloworange\n",
       "date                                                                       2022-03-11 00:00:00\n",
       "price                                                                                     17.6\n",
       "percentage-change-between-first-and-last-price                                           974.0"
      ]
     },
     "execution_count": 115,
     "metadata": {},
     "output_type": "execute_result"
    }
   ],
   "source": [
    "maximo_incremento"
   ]
  },
  {
   "cell_type": "markdown",
   "id": "197e3d5d-9a29-45aa-91a5-37ee0498a890",
   "metadata": {},
   "source": [
    "***COMPROBAMOS QUE NO EXISTA UNO MAYOR AL ENCONTRADO***"
   ]
  },
  {
   "cell_type": "code",
   "execution_count": 116,
   "id": "5757f119-5ab2-4379-9537-37f45c53b7df",
   "metadata": {},
   "outputs": [
    {
     "data": {
      "text/html": [
       "<div>\n",
       "<style scoped>\n",
       "    .dataframe tbody tr th:only-of-type {\n",
       "        vertical-align: middle;\n",
       "    }\n",
       "\n",
       "    .dataframe tbody tr th {\n",
       "        vertical-align: top;\n",
       "    }\n",
       "\n",
       "    .dataframe thead th {\n",
       "        text-align: right;\n",
       "    }\n",
       "</style>\n",
       "<table border=\"1\" class=\"dataframe\">\n",
       "  <thead>\n",
       "    <tr style=\"text-align: right;\">\n",
       "      <th></th>\n",
       "      <th>category</th>\n",
       "      <th>item</th>\n",
       "      <th>variety</th>\n",
       "      <th>date</th>\n",
       "      <th>price</th>\n",
       "      <th>percentage-change-between-first-and-last-price</th>\n",
       "    </tr>\n",
       "  </thead>\n",
       "  <tbody>\n",
       "  </tbody>\n",
       "</table>\n",
       "</div>"
      ],
      "text/plain": [
       "Empty DataFrame\n",
       "Columns: [category, item, variety, date, price, percentage-change-between-first-and-last-price]\n",
       "Index: []"
      ]
     },
     "execution_count": 116,
     "metadata": {},
     "output_type": "execute_result"
    }
   ],
   "source": [
    "precio_maximo.loc[precio_maximo['percentage-change-between-first-and-last-price']>974]"
   ]
  },
  {
   "cell_type": "code",
   "execution_count": null,
   "id": "5e25958c-b72a-434a-99aa-90c19c1b137f",
   "metadata": {},
   "outputs": [],
   "source": []
  }
 ],
 "metadata": {
  "kernelspec": {
   "display_name": "Python 3 (ipykernel)",
   "language": "python",
   "name": "python3"
  },
  "language_info": {
   "codemirror_mode": {
    "name": "ipython",
    "version": 3
   },
   "file_extension": ".py",
   "mimetype": "text/x-python",
   "name": "python",
   "nbconvert_exporter": "python",
   "pygments_lexer": "ipython3",
   "version": "3.9.7"
  }
 },
 "nbformat": 4,
 "nbformat_minor": 5
}
